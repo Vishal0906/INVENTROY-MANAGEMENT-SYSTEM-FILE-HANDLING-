{
 "cells": [
  {
   "cell_type": "code",
   "execution_count": 44,
   "id": "f63c0bbf",
   "metadata": {},
   "outputs": [],
   "source": [
    "import time\n",
    "#opening the file and saving the detials in fd\n",
    "fd = open(\"Inventory.txt\",\"r\")\n",
    "text =  fd.read()\n",
    "fd.close()"
   ]
  },
  {
   "cell_type": "code",
   "execution_count": 45,
   "id": "489cb9a5",
   "metadata": {},
   "outputs": [
    {
     "name": "stdout",
     "output_type": "stream",
     "text": [
      "1,5 star,5,79\n",
      "2,chocolate,10,200\n",
      "3,kitkat,15,134\n",
      "4,dairymilk,14,231\n"
     ]
    }
   ],
   "source": [
    "#printing the detials to see the format\n",
    "print(text)"
   ]
  },
  {
   "cell_type": "code",
   "execution_count": 47,
   "id": "703a65a6",
   "metadata": {},
   "outputs": [
    {
     "name": "stdout",
     "output_type": "stream",
     "text": [
      "enter the name of the costumer : vishal\n",
      "enter the phone number of the costumer : 7678492922\n",
      "enter the emial of the costumer : prajapativishal0906@gmail.com\n",
      "enter the product information(ID)2\n",
      "enter the amount of product needed34\n",
      "-------------------------------------\n",
      "product name        : chocolate\n",
      "product price       : 10\n",
      "quantity            : 34\n",
      "-------------------------------------\n",
      "BILLING AMOUNT      : 340\n",
      "-------------------------------------\n",
      "list updated\n"
     ]
    }
   ],
   "source": [
    "import time\n",
    "#entering the product id and amount needed and taking the user input\n",
    "ui_name = input(\"enter the name of the costumer : \")\n",
    "ui_phone = input(\"enter the phone number of the costumer : \")\n",
    "ui_email = input(\"enter the emial of the costumer : \")\n",
    "orderid = input(\"enter the product information(ID)\")\n",
    "amount = input(\"enter the amount of product needed\")\n",
    "\n",
    "products = text.split(\"\\n\")\n",
    "updated_list = []\n",
    "\n",
    "#going through each product\n",
    "\n",
    "for product in products:\n",
    "    product = product.split(\",\")\n",
    "    \n",
    "    #checking the product is available or not\n",
    "    \n",
    "    if(product[0]==orderid):\n",
    "        \n",
    "        #checking if the product has the stock or not\n",
    "        \n",
    "        if(int(product[3])>=int(amount)):  \n",
    "            print(\"-------------------------------------\")\n",
    "            print(\"product name        :\", product[1])\n",
    "            print(\"product price       :\", product[2])\n",
    "            print(\"quantity            :\", amount)\n",
    "            print(\"-------------------------------------\")\n",
    "            print(\"BILLING AMOUNT      :\", int(amount)*int(product[2]))\n",
    "            print(\"-------------------------------------\")\n",
    "            product[3] = str(int(product[3])-int(amount))\n",
    "            \n",
    "            #generating sales\n",
    "            fd = open(\"sales.txt\",\"a\")\n",
    "            sales_details = ui_name + \",\" + ui_phone + \",\" + ui_email + \",\" + product[1]+\",\"+product[2]+\",\"+amount+\",\"+str(int(amount)*int(product[2]))+\",\"+time.ctime()+\"\\n\"\n",
    "            fd.write(sales_details)\n",
    "            fd.close\n",
    "        else:\n",
    "            \n",
    "            #stock is less .... if we want to buy the stock having\n",
    "            \n",
    "            print(\"sorry we are out of stock\")\n",
    "            print(\"we have only\" + \" \" + product[3] +\" \"+ \"left\")\n",
    "            print(\"would you like to purchase it\")\n",
    "            ch = input(\"enter Y/N :\")\n",
    "            \n",
    "            #if yes buying the product capacity left\n",
    "            \n",
    "            if(ch==\"Y\" or ch==\"y\"):\n",
    "                print(\"-------------------------------------\")\n",
    "                print(\"product name        :\", product[1])\n",
    "                print(\"product price       :\", product[2])\n",
    "                print(\"quantity            :\", product[3])\n",
    "                print(\"-------------------------------------\")\n",
    "                print(\"BILLING AMOUNT      :\", int(product[3])*int(product[2]))\n",
    "                print(\"-------------------------------------\")\n",
    "                product[3] = str(int(product[3])-int(product[3]))\n",
    "            else:\n",
    "                \n",
    "                #if no\n",
    "                \n",
    "                print(\"thank you for shopping\")\n",
    "                print(\"----------------------------------\")\n",
    "    updated_list.append(product)\n",
    "print(\"list updated\")  \n",
    "lst = []\n",
    "\n",
    "#updating the list\n",
    "\n",
    "fd = open(\"Inventory.txt\",\"w\")\n",
    "for i in updated_list:\n",
    "    prod = i[0]+','+i[1]+','+i[2]+','+i[3]+'\\n'\n",
    "    lst.append(prod)\n",
    "lst[-1] = lst[-1][:-1]  \n",
    "for i in lst:\n",
    "    fd.write(i)\n",
    "fd.close()    \n",
    "\n",
    "    \n",
    "   "
   ]
  },
  {
   "cell_type": "code",
   "execution_count": 41,
   "id": "d98dd20c",
   "metadata": {},
   "outputs": [],
   "source": [
    "import time\n"
   ]
  },
  {
   "cell_type": "code",
   "execution_count": 42,
   "id": "3a85a095",
   "metadata": {},
   "outputs": [
    {
     "data": {
      "text/plain": [
       "'Tue Mar 26 17:42:52 2024'"
      ]
     },
     "execution_count": 42,
     "metadata": {},
     "output_type": "execute_result"
    }
   ],
   "source": [
    "time.ctime()"
   ]
  },
  {
   "cell_type": "code",
   "execution_count": null,
   "id": "0ad5c7ac",
   "metadata": {},
   "outputs": [],
   "source": []
  }
 ],
 "metadata": {
  "kernelspec": {
   "display_name": "Python 3 (ipykernel)",
   "language": "python",
   "name": "python3"
  },
  "language_info": {
   "codemirror_mode": {
    "name": "ipython",
    "version": 3
   },
   "file_extension": ".py",
   "mimetype": "text/x-python",
   "name": "python",
   "nbconvert_exporter": "python",
   "pygments_lexer": "ipython3",
   "version": "3.11.5"
  }
 },
 "nbformat": 4,
 "nbformat_minor": 5
}
